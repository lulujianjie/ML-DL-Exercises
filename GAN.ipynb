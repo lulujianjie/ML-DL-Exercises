{
 "cells": [
  {
   "cell_type": "code",
   "execution_count": 1,
   "metadata": {},
   "outputs": [],
   "source": [
    "import torch\n",
    "import torch.nn as nn\n",
    "import torch.utils.data as data\n",
    "import numpy as np\n",
    "import matplotlib.pyplot as plt"
   ]
  },
  {
   "cell_type": "code",
   "execution_count": 2,
   "metadata": {},
   "outputs": [],
   "source": [
    "class AverageMeter():\n",
    "    def __init__(self):\n",
    "        self.val = 0\n",
    "        self.avg = 0\n",
    "        self.sum = 0\n",
    "        self.count = 0\n",
    "    def reset(self):\n",
    "        self.val = 0\n",
    "        self.avg = 0\n",
    "        self.sum = 0\n",
    "        self.count = 0\n",
    "    def update(self,val, n=1):\n",
    "        self.val = val\n",
    "        self.count += n\n",
    "        self.sum += val\n",
    "        self.avg = self.sum / self.count\n",
    "#define dataset\n",
    "class TrueDataset(data.Dataset):\n",
    "    def __init__(self):\n",
    "        np.random.seed(0)\n",
    "        self.dataset =  np.random.randn(200,2)+[6,6]#np.vstack([np.random.randn(10,2)+[6,6],np.random.randn(10,2)+[4,4]])\n",
    "        self.max = np.max(self.dataset)\n",
    "        #self.labels = np.ones(len(self.dataset))\n",
    "    def __getitem__(self, idx):\n",
    "        x = self.dataset[idx]\n",
    "        y = 1\n",
    "        return x, y\n",
    "    def __len__(self):\n",
    "        return len(self.dataset)\n",
    "    def visualization(self):\n",
    "        for p in self.dataset:\n",
    "            plt.scatter(p[0],p[1])"
   ]
  },
  {
   "cell_type": "code",
   "execution_count": 3,
   "metadata": {},
   "outputs": [],
   "source": [
    "def weights_init_classifier(m):\n",
    "    classname = m.__class__.__name__\n",
    "    if isinstance(m, nn.Linear):\n",
    "        nn.init.normal_(m.weight, std=0.02)\n",
    "        nn.init.constant_(m.bias, 0.0)\n",
    "    elif isinstance(m, nn.BatchNorm1d):\n",
    "        m.weight.data.fill_(1)\n",
    "        m.bias.data.zero_()\n",
    "class BaseModel_D(nn.Module):\n",
    "    def __init__(self):\n",
    "        super(BaseModel_D, self).__init__()\n",
    "        self.layer1 = nn.Sequential(nn.Linear(2,10),\n",
    "                                   nn.ReLU())\n",
    "        self.layer2 = nn.Sequential(nn.Linear(10,10),\n",
    "                                   nn.ReLU())\n",
    "        self.layer3 = nn.Sequential(nn.Linear(10,2))\n",
    "        self.layer1.apply(weights_init_classifier)\n",
    "        self.layer2.apply(weights_init_classifier)\n",
    "        self.layer3.apply(weights_init_classifier)\n",
    "    def forward(self,x):\n",
    "        output = self.layer1(x)\n",
    "        output = self.layer2(output)\n",
    "        output = nn.functional.sigmoid(self.layer3(output))\n",
    "        return output\n",
    "class BaseModel_G(nn.Module):\n",
    "    def __init__(self):\n",
    "        super(BaseModel_G, self).__init__()\n",
    "        self.layer1 = nn.Sequential(nn.Linear(1,10))\n",
    "        self.layer2 = nn.Sequential(nn.Linear(10,10))\n",
    "        self.layer3 = nn.Sequential(nn.Linear(10,2))\n",
    "    def forward(self,x):\n",
    "        output = self.layer1(x)\n",
    "        output = self.layer2(output)\n",
    "        output = self.layer3(output)\n",
    "        return output"
   ]
  },
  {
   "cell_type": "code",
   "execution_count": 4,
   "metadata": {},
   "outputs": [],
   "source": [
    "batch_size = 4\n",
    "true_dataset = TrueDataset()\n",
    "true_dataloader = torch.utils.data.DataLoader(true_dataset,batch_size=batch_size,shuffle=True,num_workers=4,drop_last=False)\n",
    "\n",
    "loss_func_D = nn.CrossEntropyLoss()\n",
    "model_D = BaseModel_D()\n",
    "model_G = BaseModel_G()\n",
    "\n",
    "optimizer_D = torch.optim.Adam(model_D.parameters(), lr=0.001, betas=(0.5, 0.999), eps=1e-08, weight_decay=0, amsgrad=False)\n",
    "optimizer_G = torch.optim.Adam(model_G.parameters(), lr=0.001, betas=(0.5, 0.999), eps=1e-08, weight_decay=0, amsgrad=False)"
   ]
  },
  {
   "cell_type": "code",
   "execution_count": 6,
   "metadata": {},
   "outputs": [
    {
     "name": "stdout",
     "output_type": "stream",
     "text": [
      "epoch:1/25 D loss: 0.1725\n",
      "D acc:1.000\n",
      "epoch:2/25 D loss: 0.1617\n",
      "D acc:1.000\n",
      "epoch:3/25 D loss: 0.1325\n",
      "D acc:1.000\n",
      "epoch:4/25 G loss: 0.2299\n",
      "D acc:1.000\n",
      "epoch:5/25 D loss: 0.1144\n",
      "D acc:1.000\n",
      "epoch:6/25 D loss: 0.0955\n",
      "D acc:1.000\n",
      "epoch:7/25 D loss: 0.0872\n",
      "D acc:1.000\n",
      "epoch:8/25 G loss: 0.2876\n",
      "D acc:0.948\n",
      "epoch:9/25 D loss: 0.0916\n",
      "D acc:1.000\n",
      "epoch:10/25 D loss: 0.0852\n",
      "D acc:1.000\n",
      "epoch:11/25 D loss: 0.0830\n",
      "D acc:1.000\n",
      "epoch:12/25 G loss: 0.2858\n",
      "D acc:0.848\n",
      "epoch:13/25 D loss: 0.0999\n",
      "D acc:0.970\n",
      "epoch:14/25 D loss: 0.0907\n",
      "D acc:0.990\n",
      "epoch:15/25 D loss: 0.0867\n",
      "D acc:0.990\n",
      "epoch:16/25 G loss: 0.2444\n",
      "D acc:0.672\n",
      "epoch:17/25 D loss: 0.1387\n",
      "D acc:0.740\n",
      "epoch:18/25 D loss: 0.1380\n",
      "D acc:0.782\n",
      "epoch:19/25 D loss: 0.1371\n",
      "D acc:0.767\n",
      "epoch:20/25 G loss: 0.1237\n",
      "D acc:0.495\n",
      "epoch:21/25 D loss: 0.2038\n",
      "D acc:0.500\n",
      "epoch:22/25 D loss: 0.2033\n",
      "D acc:0.500\n",
      "epoch:23/25 D loss: 0.2033\n",
      "D acc:0.500\n",
      "epoch:24/25 G loss: 0.0789\n",
      "D acc:0.500\n",
      "epoch:25/25 D loss: 0.2033\n",
      "D acc:0.500\n"
     ]
    }
   ],
   "source": [
    "nEpochs = 25\n",
    "train_D_period = 3+1\n",
    "eval_D_period = 1\n",
    "logger_D = AverageMeter()\n",
    "logger_G = AverageMeter()\n",
    "for epoch in range(1,nEpochs+1):\n",
    "    if epoch % train_D_period != 0:    #train D for 1 epochs\n",
    "        logger_D.reset()\n",
    "        model_G.eval()\n",
    "        model_D.train()\n",
    "        for idx,(input,target) in enumerate(true_dataloader):\n",
    "            #input = input.cuda()\n",
    "            #target = target.cuda()\n",
    "            input = input.float()\n",
    "            output_D = model_D(input)\n",
    "            optimizer_D.zero_grad()\n",
    "            loss1 = loss_func_D(output_D, target)\n",
    "            logger_D.update(loss1.item(),input.shape[0])\n",
    "            loss1.backward()\n",
    "            #optimizer_D.step()\n",
    "            np.random.seed(idx)\n",
    "            \n",
    "            input = torch.from_numpy(np.random.randn(batch_size,1)).float()\n",
    "            output_G = model_G(input)\n",
    "            output_D = model_D(output_G)\n",
    "            target = target.fill_(0)\n",
    "            #optimizer_D.zero_grad()\n",
    "            loss2 = loss_func_D(output_D, target)\n",
    "            logger_D.update(loss2.item(),input.shape[0])\n",
    "\n",
    "            loss2.backward()\n",
    "            optimizer_D.step()\n",
    "        print(\"epoch:{}/{} D loss: {:.4f}\".format(epoch,nEpochs,logger_D.avg))\n",
    "        \n",
    "            \n",
    "    else: #train G for 1 epoch\n",
    "        logger_G.reset()\n",
    "        model_G.train()\n",
    "        model_D.eval()\n",
    "        for idx,(input,target) in enumerate(true_dataloader):\n",
    "            #input = input.cuda()\n",
    "            #target = target.cuda()\n",
    "            np.random.seed(idx)\n",
    "            input = torch.from_numpy(np.random.randn(batch_size,1)).float()\n",
    "            target = target.fill_(1)\n",
    "            #print(target)\n",
    "            output_G = model_G(input)\n",
    "            output_D = model_D(output_G)\n",
    "            optimizer_G.zero_grad()\n",
    "            loss = loss_func_D(output_D, target)\n",
    "            logger_G.update(loss.item(),input.shape[0])\n",
    "            loss.backward()\n",
    "            optimizer_G.step()\n",
    "        \n",
    "        print(\"epoch:{}/{} G loss: {:.4f}\".format(epoch,nEpochs,logger_G.avg))\n",
    "    \n",
    "    if epoch % eval_D_period == 0:\n",
    "        model_D.eval()\n",
    "        running_corrects = 0\n",
    "        for idx,(input,target) in enumerate(true_dataloader):\n",
    "            input = input.float()\n",
    "            output_D = model_D(input)\n",
    "            _, preds = torch.max(output_D, 1)\n",
    "            running_corrects += torch.sum(preds == target.data)\n",
    "            \n",
    "            np.random.seed(idx) \n",
    "            input = torch.from_numpy(np.random.randn(batch_size,1)).float()\n",
    "            target = target.fill_(0)\n",
    "            output_G = model_G(input)\n",
    "            output_D = model_D(output_G)\n",
    "            _, preds = torch.max(output_D, 1)\n",
    "            running_corrects += torch.sum(preds == target.data)\n",
    "        #print(len(true_dataloader.dataset)+len(false_dataloader.dataset))\n",
    "        running_acc = running_corrects.double()/(2*len(true_dataloader.dataset))\n",
    "        print('D acc:{:.3f}'.format(running_acc))"
   ]
  },
  {
   "cell_type": "code",
   "execution_count": 7,
   "metadata": {},
   "outputs": [
    {
     "data": {
      "image/png": "[encoded data removed]",
      "text/plain": [
       "<Figure size 432x288 with 1 Axes>"
      ]
     },
     "metadata": {
      "needs_background": "light"
     },
     "output_type": "display_data"
    }
   ],
   "source": [
    "genenrate_data = []\n",
    "model_G.eval()\n",
    "for idx in range(10):\n",
    "    with torch.no_grad():\n",
    "        input = torch.from_numpy(np.random.randn(batch_size,1)).float()\n",
    "        output_G = model_G(input)\n",
    "        genenrate_data.append(output_G.numpy())\n",
    "genenrate_data = np.concatenate(genenrate_data,0)\n",
    "for p in genenrate_data:\n",
    "    plt.scatter(p[0],p[1])"
   ]
  },
  {
   "cell_type": "code",
   "execution_count": 8,
   "metadata": {},
   "outputs": [
    {
     "data": {
      "image/png": "[encoded data removed]",
      "text/plain": [
       "<Figure size 432x288 with 1 Axes>"
      ]
     },
     "metadata": {
      "needs_background": "light"
     },
     "output_type": "display_data"
    }
   ],
   "source": [
    "true_dataset.visualization()"
   ]
  },
  {
   "cell_type": "code",
   "execution_count": null,
   "metadata": {},
   "outputs": [],
   "source": []
  }
 ],
 "metadata": {
  "kernelspec": {
   "display_name": "Python 3",
   "language": "python",
   "name": "python3"
  },
  "language_info": {
   "codemirror_mode": {
    "name": "ipython",
    "version": 3
   },
   "file_extension": ".py",
   "mimetype": "text/x-python",
   "name": "python",
   "nbconvert_exporter": "python",
   "pygments_lexer": "ipython3",
   "version": "3.7.3"
  }
 },
 "nbformat": 4,
 "nbformat_minor": 2
}
