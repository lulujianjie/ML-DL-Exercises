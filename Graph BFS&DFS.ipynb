{
 "cells": [
  {
   "cell_type": "code",
   "execution_count": 1,
   "metadata": {},
   "outputs": [
    {
     "name": "stdout",
     "output_type": "stream",
     "text": [
      "[[0. 1. 1. 0. 0. 0.]\n",
      " [1. 0. 1. 1. 0. 0.]\n",
      " [1. 1. 0. 1. 1. 0.]\n",
      " [0. 1. 1. 0. 1. 1.]\n",
      " [0. 0. 1. 1. 0. 0.]\n",
      " [0. 0. 0. 1. 0. 0.]] dict_keys(['A', 'B', 'C', 'D', 'E', 'F'])\n"
     ]
    }
   ],
   "source": [
    "graph = {\n",
    "    'A':['B','C'],\n",
    "    'B':['A','C','D'],\n",
    "    'C':['A','B','D','E'],\n",
    "    'D':['B','C','E','F'],\n",
    "    'E':['C','D'],\n",
    "    'F':['D']\n",
    "}\n",
    "\n",
    "import numpy as np\n",
    "def Graph2AdjMatrix(graph):\n",
    "    length = len(graph.keys())\n",
    "    indices = {v:k for k,v in enumerate(graph.keys())}\n",
    "    A = np.zeros((length, length))\n",
    "    for k in graph.keys():\n",
    "        i = indices[k]\n",
    "        neighbors = graph[k]\n",
    "        for node in neighbors:\n",
    "            j = indices[node]\n",
    "            A[i][j] = 1\n",
    "    return A, graph.keys()\n",
    "A, keys = Graph2AdjMatrix(graph)\n",
    "print(A, keys)"
   ]
  },
  {
   "cell_type": "code",
   "execution_count": 2,
   "metadata": {},
   "outputs": [
    {
     "name": "stdout",
     "output_type": "stream",
     "text": [
      "F\n",
      "D\n",
      "B\n",
      "C\n",
      "E\n",
      "A\n",
      "5\n",
      "3\n",
      "1\n",
      "2\n",
      "4\n",
      "0\n"
     ]
    }
   ],
   "source": [
    "def BFS(graph, vertex):\n",
    "    queue = [vertex]\n",
    "    visited_list = [vertex]\n",
    "    while len(queue) != 0:\n",
    "        vertex = queue.pop(0)\n",
    "        print(vertex)\n",
    "        neighbors = graph[vertex]\n",
    "        for node in neighbors:\n",
    "            if node in visited_list:\n",
    "                continue\n",
    "            else:\n",
    "                visited_list.append(node)\n",
    "                queue.append(node)\n",
    "def BFS_A(A, idx_v):\n",
    "    queue = [idx_v]\n",
    "    visited_list = [idx_v]\n",
    "    while len(queue) != 0:\n",
    "        idx_v = queue.pop(0)\n",
    "        print(idx_v)\n",
    "        neighbors = A[idx_v]\n",
    "        for idx_h, item in enumerate(neighbors):\n",
    "            if item == 1:\n",
    "                if idx_h in visited_list:\n",
    "                    continue\n",
    "                else:\n",
    "                    visited_list.append(idx_h)\n",
    "                    queue.append(idx_h)\n",
    "BFS(graph, 'F')\n",
    "BFS_A(A,5)"
   ]
  },
  {
   "cell_type": "code",
   "execution_count": 3,
   "metadata": {},
   "outputs": [
    {
     "name": "stdout",
     "output_type": "stream",
     "text": [
      "['F', 'D', 'B', 'A', 'C', 'E', 'C', 'A', 'B', 'D', 'F']\n",
      "[[0. 1. 1. 0. 0. 0.]\n",
      " [1. 0. 1. 1. 0. 0.]\n",
      " [1. 1. 0. 1. 1. 0.]\n",
      " [0. 1. 1. 0. 1. 1.]\n",
      " [0. 0. 1. 1. 0. 0.]\n",
      " [0. 0. 0. 1. 0. 0.]] dict_keys(['A', 'B', 'C', 'D', 'E', 'F'])\n"
     ]
    }
   ],
   "source": [
    "graph = {\n",
    "    'A':['B','C'],\n",
    "    'B':['A','C','D'],\n",
    "    'C':['A','B','D','E'],\n",
    "    'D':['B','C','E','F'],\n",
    "    'E':['C','D'],\n",
    "    'F':['D']\n",
    "}\n",
    "def DFS(graph, vertex):\n",
    "    path = []\n",
    "    stack = [vertex]\n",
    "    visited_list = set()\n",
    "    while len(stack) != 0:\n",
    "        path.append(vertex)\n",
    "        visited_list.add(vertex)\n",
    "        neighbors = graph[vertex]\n",
    "        unvisited_neighbors = []\n",
    "        for neighbor in neighbors:\n",
    "            if neighbor not in visited_list:\n",
    "                unvisited_neighbors.append(neighbor)\n",
    "        #print(unvisited_neighbors,visited_list)\n",
    "        if len(unvisited_neighbors) == 0:\n",
    "            stack.pop(-1)\n",
    "            if len(stack) != 0:\n",
    "                vertex = stack[-1]\n",
    "        else:\n",
    "            vertex = unvisited_neighbors[0]\n",
    "            stack.append(vertex)\n",
    "            #visited_list.add(vertex)\n",
    "    return path\n",
    "path = DFS(graph,'F')\n",
    "print(path)\n",
    "A, keys = Graph2AdjMatrix(graph)\n",
    "print(A, keys)"
   ]
  },
  {
   "cell_type": "code",
   "execution_count": 4,
   "metadata": {},
   "outputs": [
    {
     "name": "stdout",
     "output_type": "stream",
     "text": [
      "0\n",
      "1\n",
      "2\n",
      "3\n",
      "4\n",
      "3\n",
      "5\n",
      "3\n",
      "2\n",
      "1\n",
      "0\n"
     ]
    }
   ],
   "source": [
    "def DFS_A(A, idx_v):\n",
    "    vertex = idx_v\n",
    "    visited_list = set()\n",
    "    stack = [vertex]\n",
    "    while len(stack) != 0:\n",
    "        print(vertex)\n",
    "        visited_list.add(vertex)\n",
    "        unvisited_neighbors = []\n",
    "        for idx, item in enumerate(A[vertex]):\n",
    "            if item == 1 and idx not in visited_list:\n",
    "                unvisited_neighbors.append(idx)\n",
    "        #print(unvisited_neighbors)\n",
    "        if len(unvisited_neighbors) == 0:\n",
    "            stack.pop(-1)\n",
    "            if len(stack) != 0:\n",
    "                vertex = stack[-1]\n",
    "        else:\n",
    "            vertex = unvisited_neighbors[0]\n",
    "            stack.append(vertex)\n",
    "            #visited_list.add(vertex)\n",
    "DFS_A(A,0)"
   ]
  },
  {
   "cell_type": "code",
   "execution_count": null,
   "metadata": {},
   "outputs": [],
   "source": []
  }
 ],
 "metadata": {
  "kernelspec": {
   "display_name": "Python 3",
   "language": "python",
   "name": "python3"
  },
  "language_info": {
   "codemirror_mode": {
    "name": "ipython",
    "version": 3
   },
   "file_extension": ".py",
   "mimetype": "text/x-python",
   "name": "python",
   "nbconvert_exporter": "python",
   "pygments_lexer": "ipython3",
   "version": "3.6.5"
  }
 },
 "nbformat": 4,
 "nbformat_minor": 2
}
