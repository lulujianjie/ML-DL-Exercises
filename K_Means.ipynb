{
 "cells": [
  {
   "cell_type": "code",
   "execution_count": 2,
   "metadata": {},
   "outputs": [],
   "source": [
    "#k-means\n",
    "import numpy as np\n",
    "import matplotlib.pyplot as plt"
   ]
  },
  {
   "cell_type": "code",
   "execution_count": 81,
   "metadata": {},
   "outputs": [
    {
     "name": "stderr",
     "output_type": "stream",
     "text": [
      "/Users/jack/anaconda3/lib/python3.6/site-packages/ipykernel_launcher.py:3: RuntimeWarning: invalid value encountered in sqrt\n",
      "  This is separate from the ipykernel package so we can avoid doing imports until\n"
     ]
    },
    {
     "data": {
      "image/png": "[encoded data removed]",
      "text/plain": [
       "<Figure size 432x288 with 1 Axes>"
      ]
     },
     "metadata": {},
     "output_type": "display_data"
    }
   ],
   "source": [
    "#generate dataset\n",
    "dataset = np.vstack((np.random.randn(10,2)+[5,5],np.random.randn(10,2)))\n",
    "dist_mat = np.sqrt(np.power(dataset,2).sum(1)+np.expand_dims(np.power(dataset,2).sum(1),1)-2*np.dot(dataset,dataset.T))\n",
    "for p in dataset:\n",
    "    plt.scatter(p[0],p[1])"
   ]
  },
  {
   "cell_type": "code",
   "execution_count": 76,
   "metadata": {},
   "outputs": [],
   "source": [
    "k = 2\n",
    "MAX_LOOP = 150"
   ]
  },
  {
   "cell_type": "code",
   "execution_count": 82,
   "metadata": {},
   "outputs": [],
   "source": [
    "def K_Means_Cluster(dataset, k=2, MAX_LOOP=100):\n",
    "    #rand choose k points as k centers\n",
    "    k_center_indices = np.random.choice(dataset.shape[0],k,replace = False)\n",
    "    #compute the distance matrix between points and centers\n",
    "    center_mat = dataset[k_center_indices]\n",
    "    dist_mat = ComputeDistMat(dataset,center_mat)\n",
    "    #do cluster\n",
    "    last_cluster_results = np.argmin(dist_mat,axis=1)\n",
    "    #loop\n",
    "    loop = 0\n",
    "    while(loop < MAX_LOOP):\n",
    "        #compute the mean of each cluster as center\n",
    "        mean_list = []\n",
    "        for c in range(k):\n",
    "            mean_list.append(np.mean(dataset[np.where(last_cluster_results == c)], 0))\n",
    "            #print(mean_list)\n",
    "        #compute the distance matrix between points and centers\n",
    "        center_mat = np.array(mean_list)\n",
    "        dist_mat = ComputeDistMat(dataset,center_mat)\n",
    "        #do cluster\n",
    "        cluster_results = np.argmin(dist_mat,axis=1)\n",
    "        if (cluster_results == last_cluster_results).all():\n",
    "            loop = MAX_LOOP\n",
    "            print('cluster center fixed')\n",
    "        else:\n",
    "            last_cluster_results = cluster_results\n",
    "            loop += 1\n",
    "            \n",
    "    return cluster_results"
   ]
  },
  {
   "cell_type": "code",
   "execution_count": 84,
   "metadata": {},
   "outputs": [
    {
     "name": "stdout",
     "output_type": "stream",
     "text": [
      "cluster center fixed\n",
      "[0 0 0 0 0 0 0 0 0 0 1 1 1 1 1 1 1 1 1 1]\n"
     ]
    }
   ],
   "source": [
    "cluster_results = K_Means_Cluster(dataset, k=2, MAX_LOOP=100)\n",
    "print(cluster_results)"
   ]
  }
 ],
 "metadata": {
  "kernelspec": {
   "display_name": "Python 3",
   "language": "python",
   "name": "python3"
  },
  "language_info": {
   "codemirror_mode": {
    "name": "ipython",
    "version": 3
   },
   "file_extension": ".py",
   "mimetype": "text/x-python",
   "name": "python",
   "nbconvert_exporter": "python",
   "pygments_lexer": "ipython3",
   "version": "3.6.5"
  }
 },
 "nbformat": 4,
 "nbformat_minor": 2
}
