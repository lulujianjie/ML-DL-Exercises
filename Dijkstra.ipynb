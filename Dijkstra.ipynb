{
 "cells": [
  {
   "cell_type": "code",
   "execution_count": 94,
   "metadata": {},
   "outputs": [],
   "source": [
    "graph = {\n",
    "    'A':{'B':5, 'C':1},\n",
    "    'B':{'A':5, 'C':2, 'D':1},\n",
    "    'C':{'A':1, 'B':2, 'D':4, 'E':8},\n",
    "    'D':{'B':1, 'C':4, 'E':3, 'F':6},\n",
    "    'E':{'C':8, 'D':3},\n",
    "    'F':{'D':6}\n",
    "}"
   ]
  },
  {
   "cell_type": "code",
   "execution_count": 104,
   "metadata": {},
   "outputs": [
    {
     "name": "stdout",
     "output_type": "stream",
     "text": [
      "(0, 'A')\n",
      "(1, 'C')\n",
      "(2, 'B')\n",
      "(1, 'D')\n",
      "(3, 'E')\n",
      "(4, 'D')\n",
      "(5, 'B')\n",
      "(6, 'F')\n",
      "(6, 'F')\n",
      "(8, 'E')\n"
     ]
    }
   ],
   "source": [
    "import heapq\n",
    "parent_dict = {}\n",
    "start_node = 'A'\n",
    "visited = set()\n",
    "pqueue = []\n",
    "heapq.heappush(pqueue, (0, start_node))\n",
    "parent_node = 'N/A'\n",
    "while(len(pqueue) > 0):\n",
    "    pair = heapq.heappop(pqueue)\n",
    "    print(pair)\n",
    "    distance = pair[0]\n",
    "    current_node = pair[1]\n",
    "    if current_node not in visited:\n",
    "        parent_dict[current_node] = (distance, parent_node)\n",
    "    #print(current_node)\n",
    "    visited.add(current_node)\n",
    "    neighbors = graph[current_node].keys()\n",
    "    for neighbor in neighbors:\n",
    "        if neighbor not in visited:\n",
    "            heapq.heappush(pqueue, (graph[current_node][neighbor], neighbor))\n",
    "            parent_node = current_node\n"
   ]
  },
  {
   "cell_type": "code",
   "execution_count": 105,
   "metadata": {},
   "outputs": [
    {
     "data": {
      "text/plain": [
       "{'A': (0, 'N/A'),\n",
       " 'C': (1, 'A'),\n",
       " 'B': (2, 'C'),\n",
       " 'D': (1, 'B'),\n",
       " 'E': (3, 'D'),\n",
       " 'F': (6, 'D')}"
      ]
     },
     "execution_count": 105,
     "metadata": {},
     "output_type": "execute_result"
    }
   ],
   "source": [
    "parent_dict"
   ]
  },
  {
   "cell_type": "code",
   "execution_count": null,
   "metadata": {},
   "outputs": [],
   "source": []
  }
 ],
 "metadata": {
  "kernelspec": {
   "display_name": "Python 3",
   "language": "python",
   "name": "python3"
  },
  "language_info": {
   "codemirror_mode": {
    "name": "ipython",
    "version": 3
   },
   "file_extension": ".py",
   "mimetype": "text/x-python",
   "name": "python",
   "nbconvert_exporter": "python",
   "pygments_lexer": "ipython3",
   "version": "3.6.5"
  }
 },
 "nbformat": 4,
 "nbformat_minor": 2
}
